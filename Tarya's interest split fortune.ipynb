{
 "cells": [
  {
   "cell_type": "code",
   "execution_count": 1,
   "metadata": {},
   "outputs": [],
   "source": [
    "import pandas as pd, matplotlib.pyplot as plt"
   ]
  },
  {
   "cell_type": "code",
   "execution_count": 2,
   "metadata": {},
   "outputs": [],
   "source": [
    "import calculator, itertools"
   ]
  },
  {
   "cell_type": "code",
   "execution_count": 3,
   "metadata": {},
   "outputs": [],
   "source": [
    "def rotate_comb(comb):\n",
    "    return [comb, comb[1:] + comb[:1], comb[2:] + comb[:2]]"
   ]
  },
  {
   "cell_type": "code",
   "execution_count": 4,
   "metadata": {},
   "outputs": [],
   "source": [
    "TOTAL_FURTUNE = 250000\n",
    "UNITS = 10000\n",
    "MIN_FLUID = 30000\n",
    "MIN_NON_FLUID = 50000\n",
    "\n",
    "amounts = range(0, TOTAL_FURTUNE, UNITS)\n",
    "combs = itertools.combinations(amounts, 3)\n",
    "\n",
    "rotated_combs_by_total_furtune = [rotate_comb(comb) for comb in combs if sum(comb) == TOTAL_FURTUNE]\n",
    "combs_by_min_fluid = [comb for rotated_combs in rotated_combs_by_total_furtune for comb in rotated_combs if comb[2] >= MIN_FLUID and comb[0]+comb[1] >= MIN_NON_FLUID]\n",
    "combs_with_netos_sum = [comb + (calculator.sum_netos(*comb),) for comb in combs_by_min_fluid]"
   ]
  },
  {
   "cell_type": "code",
   "execution_count": 5,
   "metadata": {},
   "outputs": [],
   "source": [
    "df = pd.DataFrame(combs_with_netos_sum, columns = [\"2yr_investment\", \"1yr_investment\", \"fluid_investment\", \"sum_netos\"])"
   ]
  },
  {
   "cell_type": "code",
   "execution_count": 6,
   "metadata": {},
   "outputs": [
    {
     "data": {
      "text/html": [
       "<div>\n",
       "<style scoped>\n",
       "    .dataframe tbody tr th:only-of-type {\n",
       "        vertical-align: middle;\n",
       "    }\n",
       "\n",
       "    .dataframe tbody tr th {\n",
       "        vertical-align: top;\n",
       "    }\n",
       "\n",
       "    .dataframe thead th {\n",
       "        text-align: right;\n",
       "    }\n",
       "</style>\n",
       "<table border=\"1\" class=\"dataframe\">\n",
       "  <thead>\n",
       "    <tr style=\"text-align: right;\">\n",
       "      <th></th>\n",
       "      <th>2yr_investment</th>\n",
       "      <th>1yr_investment</th>\n",
       "      <th>fluid_investment</th>\n",
       "      <th>sum_netos</th>\n",
       "    </tr>\n",
       "  </thead>\n",
       "  <tbody>\n",
       "    <tr>\n",
       "      <th>0</th>\n",
       "      <td>220000</td>\n",
       "      <td>0</td>\n",
       "      <td>30000</td>\n",
       "      <td>1030.625000</td>\n",
       "    </tr>\n",
       "    <tr>\n",
       "      <th>18</th>\n",
       "      <td>210000</td>\n",
       "      <td>10000</td>\n",
       "      <td>30000</td>\n",
       "      <td>1023.541667</td>\n",
       "    </tr>\n",
       "    <tr>\n",
       "      <th>1</th>\n",
       "      <td>210000</td>\n",
       "      <td>0</td>\n",
       "      <td>40000</td>\n",
       "      <td>1020.000000</td>\n",
       "    </tr>\n",
       "    <tr>\n",
       "      <th>36</th>\n",
       "      <td>200000</td>\n",
       "      <td>20000</td>\n",
       "      <td>30000</td>\n",
       "      <td>1016.458333</td>\n",
       "    </tr>\n",
       "    <tr>\n",
       "      <th>20</th>\n",
       "      <td>200000</td>\n",
       "      <td>10000</td>\n",
       "      <td>40000</td>\n",
       "      <td>1012.916667</td>\n",
       "    </tr>\n",
       "    <tr>\n",
       "      <th>3</th>\n",
       "      <td>200000</td>\n",
       "      <td>0</td>\n",
       "      <td>50000</td>\n",
       "      <td>1009.375000</td>\n",
       "    </tr>\n",
       "    <tr>\n",
       "      <th>38</th>\n",
       "      <td>190000</td>\n",
       "      <td>20000</td>\n",
       "      <td>40000</td>\n",
       "      <td>1005.833333</td>\n",
       "    </tr>\n",
       "    <tr>\n",
       "      <th>22</th>\n",
       "      <td>190000</td>\n",
       "      <td>10000</td>\n",
       "      <td>50000</td>\n",
       "      <td>1002.291667</td>\n",
       "    </tr>\n",
       "    <tr>\n",
       "      <th>55</th>\n",
       "      <td>180000</td>\n",
       "      <td>30000</td>\n",
       "      <td>40000</td>\n",
       "      <td>998.750000</td>\n",
       "    </tr>\n",
       "    <tr>\n",
       "      <th>5</th>\n",
       "      <td>190000</td>\n",
       "      <td>0</td>\n",
       "      <td>60000</td>\n",
       "      <td>998.750000</td>\n",
       "    </tr>\n",
       "    <tr>\n",
       "      <th>40</th>\n",
       "      <td>180000</td>\n",
       "      <td>20000</td>\n",
       "      <td>50000</td>\n",
       "      <td>995.208333</td>\n",
       "    </tr>\n",
       "    <tr>\n",
       "      <th>24</th>\n",
       "      <td>180000</td>\n",
       "      <td>10000</td>\n",
       "      <td>60000</td>\n",
       "      <td>991.666667</td>\n",
       "    </tr>\n",
       "    <tr>\n",
       "      <th>58</th>\n",
       "      <td>170000</td>\n",
       "      <td>30000</td>\n",
       "      <td>50000</td>\n",
       "      <td>988.125000</td>\n",
       "    </tr>\n",
       "    <tr>\n",
       "      <th>7</th>\n",
       "      <td>180000</td>\n",
       "      <td>0</td>\n",
       "      <td>70000</td>\n",
       "      <td>988.125000</td>\n",
       "    </tr>\n",
       "    <tr>\n",
       "      <th>42</th>\n",
       "      <td>170000</td>\n",
       "      <td>20000</td>\n",
       "      <td>60000</td>\n",
       "      <td>984.583333</td>\n",
       "    </tr>\n",
       "    <tr>\n",
       "      <th>26</th>\n",
       "      <td>170000</td>\n",
       "      <td>10000</td>\n",
       "      <td>70000</td>\n",
       "      <td>981.041667</td>\n",
       "    </tr>\n",
       "    <tr>\n",
       "      <th>76</th>\n",
       "      <td>160000</td>\n",
       "      <td>40000</td>\n",
       "      <td>50000</td>\n",
       "      <td>981.041667</td>\n",
       "    </tr>\n",
       "    <tr>\n",
       "      <th>9</th>\n",
       "      <td>170000</td>\n",
       "      <td>0</td>\n",
       "      <td>80000</td>\n",
       "      <td>977.500000</td>\n",
       "    </tr>\n",
       "    <tr>\n",
       "      <th>61</th>\n",
       "      <td>160000</td>\n",
       "      <td>30000</td>\n",
       "      <td>60000</td>\n",
       "      <td>977.500000</td>\n",
       "    </tr>\n",
       "    <tr>\n",
       "      <th>44</th>\n",
       "      <td>160000</td>\n",
       "      <td>20000</td>\n",
       "      <td>70000</td>\n",
       "      <td>973.958333</td>\n",
       "    </tr>\n",
       "  </tbody>\n",
       "</table>\n",
       "</div>"
      ],
      "text/plain": [
       "    2yr_investment  1yr_investment  fluid_investment    sum_netos\n",
       "0           220000               0             30000  1030.625000\n",
       "18          210000           10000             30000  1023.541667\n",
       "1           210000               0             40000  1020.000000\n",
       "36          200000           20000             30000  1016.458333\n",
       "20          200000           10000             40000  1012.916667\n",
       "3           200000               0             50000  1009.375000\n",
       "38          190000           20000             40000  1005.833333\n",
       "22          190000           10000             50000  1002.291667\n",
       "55          180000           30000             40000   998.750000\n",
       "5           190000               0             60000   998.750000\n",
       "40          180000           20000             50000   995.208333\n",
       "24          180000           10000             60000   991.666667\n",
       "58          170000           30000             50000   988.125000\n",
       "7           180000               0             70000   988.125000\n",
       "42          170000           20000             60000   984.583333\n",
       "26          170000           10000             70000   981.041667\n",
       "76          160000           40000             50000   981.041667\n",
       "9           170000               0             80000   977.500000\n",
       "61          160000           30000             60000   977.500000\n",
       "44          160000           20000             70000   973.958333"
      ]
     },
     "execution_count": 6,
     "metadata": {},
     "output_type": "execute_result"
    }
   ],
   "source": [
    "df.sort_values(by=\"sum_netos\", ascending=False).head(20)"
   ]
  },
  {
   "cell_type": "code",
   "execution_count": 7,
   "metadata": {},
   "outputs": [
    {
     "data": {
      "text/plain": [
       "850.0"
      ]
     },
     "execution_count": 7,
     "metadata": {},
     "output_type": "execute_result"
    }
   ],
   "source": [
    "calculator.sum_netos(200000, 0, 0)"
   ]
  },
  {
   "cell_type": "code",
   "execution_count": 48,
   "metadata": {},
   "outputs": [
    {
     "data": {
      "text/plain": [
       "956.25"
      ]
     },
     "execution_count": 48,
     "metadata": {},
     "output_type": "execute_result"
    }
   ],
   "source": [
    "calculator.sum_netos(150000, 0, 100000)"
   ]
  },
  {
   "cell_type": "code",
   "execution_count": 47,
   "metadata": {},
   "outputs": [
    {
     "data": {
      "text/plain": [
       "796.875"
      ]
     },
     "execution_count": 47,
     "metadata": {},
     "output_type": "execute_result"
    }
   ],
   "source": [
    "calculator.sum_netos(0, 0, 250000)"
   ]
  },
  {
   "cell_type": "code",
   "execution_count": 35,
   "metadata": {},
   "outputs": [
    {
     "data": {
      "text/plain": [
       "1115.625"
      ]
     },
     "execution_count": 35,
     "metadata": {},
     "output_type": "execute_result"
    }
   ],
   "source": [
    "calculator.sum_netos(0, 0, 350000)"
   ]
  },
  {
   "cell_type": "code",
   "execution_count": 36,
   "metadata": {},
   "outputs": [
    {
     "data": {
      "text/plain": [
       "1328.125"
      ]
     },
     "execution_count": 36,
     "metadata": {},
     "output_type": "execute_result"
    }
   ],
   "source": [
    "calculator.sum_netos(200000, 0, 150000)"
   ]
  },
  {
   "cell_type": "code",
   "execution_count": 49,
   "metadata": {},
   "outputs": [
    {
     "data": {
      "text/plain": [
       "1009.375"
      ]
     },
     "execution_count": 49,
     "metadata": {},
     "output_type": "execute_result"
    }
   ],
   "source": [
    "calculator.sum_netos(200000, 0, 50000)"
   ]
  },
  {
   "cell_type": "code",
   "execution_count": 45,
   "metadata": {},
   "outputs": [
    {
     "data": {
      "text/plain": [
       "796.875"
      ]
     },
     "execution_count": 45,
     "metadata": {},
     "output_type": "execute_result"
    }
   ],
   "source": [
    "calculator.sum_netos(0, 0, 250000)"
   ]
  },
  {
   "cell_type": "code",
   "execution_count": 42,
   "metadata": {},
   "outputs": [
    {
     "data": {
      "text/plain": [
       "3816"
      ]
     },
     "execution_count": 42,
     "metadata": {},
     "output_type": "execute_result"
    }
   ],
   "source": [
    "318*12"
   ]
  },
  {
   "cell_type": "code",
   "execution_count": null,
   "metadata": {},
   "outputs": [],
   "source": []
  }
 ],
 "metadata": {
  "kernelspec": {
   "display_name": "Python 3",
   "language": "python",
   "name": "python3"
  },
  "language_info": {
   "codemirror_mode": {
    "name": "ipython",
    "version": 3
   },
   "file_extension": ".py",
   "mimetype": "text/x-python",
   "name": "python",
   "nbconvert_exporter": "python",
   "pygments_lexer": "ipython3",
   "version": "3.6.5"
  }
 },
 "nbformat": 4,
 "nbformat_minor": 4
}
